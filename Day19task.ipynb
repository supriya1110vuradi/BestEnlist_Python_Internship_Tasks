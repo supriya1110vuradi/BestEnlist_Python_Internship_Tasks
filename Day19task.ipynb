{
 "cells": [
  {
   "cell_type": "markdown",
   "id": "4e3786fc",
   "metadata": {},
   "source": [
    "1.Create an Excel with data of Student database and add all the values which is required for student management database, Read the excel file and add the datas into a DB (using script)"
   ]
  },
  {
   "cell_type": "code",
   "execution_count": null,
   "id": "fc3e8c4a",
   "metadata": {},
   "outputs": [],
   "source": [
    "import openpyxl"
   ]
  },
  {
   "cell_type": "code",
   "execution_count": 17,
   "id": "453b9f0d",
   "metadata": {},
   "outputs": [
    {
     "name": "stdout",
     "output_type": "stream",
     "text": [
      "Shraddha\n"
     ]
    }
   ],
   "source": [
    "path = \"studentdata.xlsx\"\n",
    "wb_obj = openpyxl.load_workbook(path)\n",
    "sheet_obj = wb_obj.active\n",
    "cell_obj = sheet_obj.cell(row = 2, column = 2)\n",
    "print(cell_obj.value)"
   ]
  },
  {
   "cell_type": "code",
   "execution_count": 19,
   "id": "23e644f9",
   "metadata": {},
   "outputs": [
    {
     "name": "stdout",
     "output_type": "stream",
     "text": [
      "A123\n",
      "Shraddha\n",
      "Kapoor\n",
      "Biomedical\n",
      "Python\n"
     ]
    }
   ],
   "source": [
    "for i in range(1,6):\n",
    "    cell_obj = sheet_obj.cell(row = 2, column = i)\n",
    "    print(cell_obj.value)"
   ]
  },
  {
   "cell_type": "code",
   "execution_count": 22,
   "id": "8479d1c7",
   "metadata": {},
   "outputs": [
    {
     "name": "stdout",
     "output_type": "stream",
     "text": [
      "<mysql.connector.connection.MySQLConnection object at 0x000001E65156D4C0>\n",
      "('doctor',)\n",
      "('employee',)\n",
      "('information_schema',)\n",
      "('my_first_db',)\n",
      "('mydatabase',)\n",
      "('mysql',)\n",
      "('performance_schema',)\n",
      "('records',)\n",
      "('student',)\n",
      "('students',)\n",
      "('sys',)\n",
      "('usersdb',)\n"
     ]
    }
   ],
   "source": [
    "import mysql.connector\n",
    "\n",
    "mydb = mysql.connector.connect(\n",
    "  host=\"localhost\",\n",
    " user=\"root\",\n",
    "  password=\"Sqlpython123#\",\n",
    ")\n",
    "\n",
    "mycursor = mydb.cursor()\n",
    "print(mydb)\n",
    "\n",
    "mycursor.execute(\"CREATE DATABASE students\")\n",
    "mycursor = mydb.cursor()\n",
    "\n",
    "mycursor.execute(\"SHOW DATABASES\")\n",
    "\n",
    "for entry in mycursor:\n",
    "  print(entry)"
   ]
  },
  {
   "cell_type": "code",
   "execution_count": 37,
   "id": "d3fc85cc",
   "metadata": {},
   "outputs": [],
   "source": [
    "import pandas as pd\n",
    "\n",
    "df = pd.read_excel(r\"studentdata.xls\")\n"
   ]
  },
  {
   "cell_type": "code",
   "execution_count": 28,
   "id": "f8feda5b",
   "metadata": {},
   "outputs": [],
   "source": [
    "import xlrd\n",
    "import MySQLdb"
   ]
  },
  {
   "cell_type": "code",
   "execution_count": 36,
   "id": "a8a9f803",
   "metadata": {},
   "outputs": [
    {
     "data": {
      "text/plain": [
       "<xlrd.book.Book at 0x1e65144f070>"
      ]
     },
     "execution_count": 36,
     "metadata": {},
     "output_type": "execute_result"
    }
   ],
   "source": [
    "xl_sheet = xlrd.open_workbook(\"studentdata.xls\")\n",
    "xl_sheet"
   ]
  },
  {
   "cell_type": "code",
   "execution_count": 38,
   "id": "4449c8c6",
   "metadata": {},
   "outputs": [
    {
     "data": {
      "text/plain": [
       "['Sheet1']"
      ]
     },
     "execution_count": 38,
     "metadata": {},
     "output_type": "execute_result"
    }
   ],
   "source": [
    "sheet_name =xl_sheet.sheet_names()\n",
    "sheet_name"
   ]
  },
  {
   "cell_type": "code",
   "execution_count": null,
   "id": "ed333ae8",
   "metadata": {},
   "outputs": [],
   "source": [
    "import mysql.connector\n",
    "  db_connection = mysql.connector.connect(\n",
    "  host=\"localhost\",\n",
    "  user=\"root\",\n",
    "  passwd=\"root\",\n",
    "  database=\"my_first_db\"\n",
    "  )\n",
    "db_cursor = db_connection.cursor()\n",
    "#Here creating database table as student'\n",
    "db_cursor.execute(\"CREATE TABLE student1 (Roll_No VARCHAR(255) ,First_Name VARCHAR(255),Last_Name VARCHAR(255),Branch VARCHAR(255),skills VARCHAR(255))\")\n",
    "#Get database table'\n",
    "db_cursor.execute(\"SHOW TABLES\")\n",
    "for table in db_cursor:\n",
    "\tprint(table)"
   ]
  },
  {
   "cell_type": "code",
   "execution_count": 51,
   "id": "925585a7",
   "metadata": {},
   "outputs": [],
   "source": [
    "mydb = mysql.connector.connect(\n",
    "  host=\"localhost\",\n",
    " user=\"root\",\n",
    "  password=\"Sqlpython123#\",\n",
    "  database=\"students\"\n",
    ")\n",
    "\n",
    "cur = mydb.cursor()\n",
    "for s in range(0,1):\n",
    "    sheet=xl_sheet.sheet_by_index(s)\n",
    "    sql= \"INSERT INTO student1(Roll_No,First_Name,Last_Name,Branch,skills) VALUES(%s,%s,%s,%s,%s)\"\n",
    "    for r in range(1,sheet.nrows):\n",
    "        Roll_No =sheet.cell(r,0).value\n",
    "        First_Name =sheet.cell(r,1).value\n",
    "        Last_Name=sheet.cell(r,2).value\n",
    "        Branch =sheet.cell(r,3).value\n",
    "        skills =sheet.cell(r,4).value\n",
    "        values =(Roll_No ,First_Name ,Last_Name, Branch ,skills)\n",
    "        \n",
    "        cur.execute(sql,values)\n",
    "mydb.commit()\n"
   ]
  },
  {
   "cell_type": "code",
   "execution_count": 52,
   "id": "8a4b9657",
   "metadata": {},
   "outputs": [
    {
     "name": "stdout",
     "output_type": "stream",
     "text": [
      "('A123', 'Shraddha', 'Kapoor', 'Biomedical', 'Python')\n",
      "('A143', 'Alia', 'Bhatt', 'Computer Science', 'AI')\n",
      "('A156', 'Kiara', 'Advani', 'EXTC', 'ML')\n",
      "('A178', 'Hrithik', 'Roshan', 'ETRX', 'Java')\n",
      "('A189', 'Varun', 'Dhavan', 'IT', 'C++')\n",
      "('A201', 'Nidhi', 'Shah', 'Chemical', 'C#')\n",
      "('A223', 'Deepika', 'Padukone', 'Mechanical', 'C')\n",
      "('A239', 'Neha', 'Kakkar', 'Electrical', 'SQL')\n",
      "('A256', 'Siddharth', 'Malhothra', 'Civil', 'CN')\n",
      "('A264', 'Vijay', 'Deverakonda', 'Instrumentation', 'HTML')\n"
     ]
    }
   ],
   "source": [
    "mycursor = mydb.cursor()\n",
    "\n",
    "mycursor.execute(\"SELECT * FROM student1\")\n",
    "\n",
    "myresult = mycursor.fetchall()\n",
    "\n",
    "for x in myresult:\n",
    "    print(x)"
   ]
  },
  {
   "cell_type": "code",
   "execution_count": 53,
   "id": "13df0571",
   "metadata": {},
   "outputs": [],
   "source": [
    "mydb.commit()\n",
    " # Close the database connection\n",
    "mydb.close()"
   ]
  }
 ],
 "metadata": {
  "kernelspec": {
   "display_name": "Python 3 (ipykernel)",
   "language": "python",
   "name": "python3"
  },
  "language_info": {
   "codemirror_mode": {
    "name": "ipython",
    "version": 3
   },
   "file_extension": ".py",
   "mimetype": "text/x-python",
   "name": "python",
   "nbconvert_exporter": "python",
   "pygments_lexer": "ipython3",
   "version": "3.9.5"
  }
 },
 "nbformat": 4,
 "nbformat_minor": 5
}
