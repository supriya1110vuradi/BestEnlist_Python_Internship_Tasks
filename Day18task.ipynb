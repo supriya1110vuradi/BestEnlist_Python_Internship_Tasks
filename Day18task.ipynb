{
 "cells": [
  {
   "cell_type": "markdown",
   "id": "0ff279fe",
   "metadata": {},
   "source": [
    "#1] Create a DB with doctor and doctor ID & patients visited"
   ]
  },
  {
   "cell_type": "code",
   "execution_count": 2,
   "id": "edd38430",
   "metadata": {},
   "outputs": [
    {
     "name": "stdout",
     "output_type": "stream",
     "text": [
      "('doctor',)\n",
      "('information_schema',)\n",
      "('my_first_db',)\n",
      "('mydatabase',)\n",
      "('mysql',)\n",
      "('performance_schema',)\n",
      "('records',)\n",
      "('students_records',)\n",
      "('sys',)\n",
      "('usersdb',)\n"
     ]
    }
   ],
   "source": [
    "import mysql.connector\n",
    "db_connection = mysql.connector.connect(\n",
    "  host= \"localhost\",\n",
    "  user= \"root\",\n",
    "  passwd= \"Sqlpython123#\"\n",
    "  )\n",
    "# creating database_cursor to perform SQL operation\n",
    "db_cursor = db_connection.cursor()\n",
    "# executing cursor with execute method and pass SQL query\n",
    "db_cursor.execute(\"CREATE DATABASE doctor\")\n",
    "# get list of all databases\n",
    "db_cursor.execute(\"SHOW DATABASES\")\n",
    "#print all databases\n",
    "for db in db_cursor:\n",
    "\tprint(db)"
   ]
  },
  {
   "cell_type": "code",
   "execution_count": 4,
   "id": "18dcdc0f",
   "metadata": {},
   "outputs": [
    {
     "name": "stdout",
     "output_type": "stream",
     "text": [
      "('doctor',)\n"
     ]
    }
   ],
   "source": [
    "import mysql.connector\n",
    "db_connection = mysql.connector.connect(\n",
    "  host=\"localhost\",\n",
    "  user=\"root\",\n",
    "  passwd=\"Sqlpython123#\",\n",
    "  database=\"doctor\"\n",
    "  )\n",
    "db_cursor = db_connection.cursor()\n",
    "db_cursor.execute(\"CREATE TABLE doctor (id VARCHAR(255), patient_visited VARCHAR(255))\")\n",
    "#Get database table'\n",
    "db_cursor.execute(\"SHOW TABLES\")\n",
    "for table in db_cursor:\n",
    "\tprint(table)"
   ]
  },
  {
   "cell_type": "code",
   "execution_count": 5,
   "id": "7f284f0f",
   "metadata": {},
   "outputs": [
    {
     "name": "stdout",
     "output_type": "stream",
     "text": [
      "10 Record Inserted\n"
     ]
    }
   ],
   "source": [
    "import mysql.connector\n",
    "db_connection = mysql.connector.connect(\n",
    "  host=\"localhost\",\n",
    "  user=\"root\",\n",
    "  passwd=\"Sqlpython123#\",\n",
    "  database=\"doctor\"\n",
    "  )\n",
    "db_cursor = db_connection.cursor()\n",
    "doctor_sql_query = \"INSERT INTO doctor(id,patient_visited) VALUES(%s, %s)\"\n",
    "val=[('A123', '5'), ('A233', '0'), ('A243', '7'), ('A334', '15'), ('A673', '11'), ('A193', '9'),\n",
    "    ('A1453', '1'), ('A1295', '4'), ('A1163', '8'), ('A163', '2')]\n",
    "db_cursor.executemany(doctor_sql_query, val)\n",
    "db_connection.commit()\n",
    "print(db_cursor.rowcount, \"Record Inserted\")"
   ]
  },
  {
   "cell_type": "code",
   "execution_count": 6,
   "id": "5ff883b4",
   "metadata": {},
   "outputs": [
    {
     "name": "stdout",
     "output_type": "stream",
     "text": [
      "6 Record Inserted\n"
     ]
    }
   ],
   "source": [
    "import mysql.connector\n",
    "db_connection = mysql.connector.connect(\n",
    "  host=\"localhost\",\n",
    "  user=\"root\",\n",
    "  passwd=\"Sqlpython123#\",\n",
    "  database=\"doctor\"\n",
    "  )\n",
    "db_cursor = db_connection.cursor()\n",
    "doctor_sql_query = \"INSERT INTO doctor(id,patient_visited) VALUES(%s, %s)\"\n",
    "val=[('A413', '0'), ('A246', '6'), ('A293', '0'), ('A354', '1'), ('A6903', '0'), ('A1273', '3')]\n",
    "db_cursor.executemany(doctor_sql_query, val)\n",
    "db_connection.commit()\n",
    "print(db_cursor.rowcount, \"Record Inserted\")"
   ]
  },
  {
   "cell_type": "code",
   "execution_count": 7,
   "id": "3e5beb6b",
   "metadata": {
    "scrolled": true
   },
   "outputs": [
    {
     "name": "stdout",
     "output_type": "stream",
     "text": [
      "('A123', '5')\n",
      "('A233', '0')\n",
      "('A243', '7')\n",
      "('A334', '15')\n",
      "('A673', '11')\n",
      "('A193', '9')\n",
      "('A1453', '1')\n",
      "('A1295', '4')\n",
      "('A1163', '8')\n",
      "('A163', '2')\n",
      "('A413', '0')\n",
      "('A246', '6')\n",
      "('A293', '0')\n",
      "('A354', '1')\n",
      "('A6903', '0')\n",
      "('A1273', '3')\n"
     ]
    }
   ],
   "source": [
    "db_cursor = db_connection.cursor()\n",
    "db_cursor.execute(\"SELECT * FROM doctor\")\n",
    "myresult=db_cursor.fetchall()\n",
    "for x in myresult:\n",
    "    print(x)"
   ]
  },
  {
   "cell_type": "markdown",
   "id": "d2fc2393",
   "metadata": {},
   "source": [
    "#2] Get the doctor(s) who have more than 5 patients visited"
   ]
  },
  {
   "cell_type": "code",
   "execution_count": 8,
   "id": "fbebc4a7",
   "metadata": {},
   "outputs": [
    {
     "name": "stdout",
     "output_type": "stream",
     "text": [
      "('A243', '7')\n",
      "('A334', '15')\n",
      "('A673', '11')\n",
      "('A193', '9')\n",
      "('A1163', '8')\n",
      "('A246', '6')\n"
     ]
    }
   ],
   "source": [
    "db_cursor = db_connection.cursor()\n",
    "db_cursor.execute(\"SELECT * FROM doctor where Patient_visited >5\")\n",
    "myresult=db_cursor.fetchall()\n",
    "for x in myresult:\n",
    "    print(x)"
   ]
  },
  {
   "cell_type": "markdown",
   "id": "27f9819a",
   "metadata": {},
   "source": [
    "#3] Get the doctors with no patients visit"
   ]
  },
  {
   "cell_type": "code",
   "execution_count": 9,
   "id": "cfeb30b3",
   "metadata": {},
   "outputs": [
    {
     "name": "stdout",
     "output_type": "stream",
     "text": [
      "('A233', '0')\n",
      "('A413', '0')\n",
      "('A293', '0')\n",
      "('A6903', '0')\n"
     ]
    }
   ],
   "source": [
    "db_cursor = db_connection.cursor()\n",
    "db_cursor.execute(\"SELECT * FROM doctor where Patient_visited=0\")\n",
    "myresult=db_cursor.fetchall()\n",
    "for x in myresult:\n",
    "    print(x)"
   ]
  }
 ],
 "metadata": {
  "kernelspec": {
   "display_name": "Python 3",
   "language": "python",
   "name": "python3"
  },
  "language_info": {
   "codemirror_mode": {
    "name": "ipython",
    "version": 3
   },
   "file_extension": ".py",
   "mimetype": "text/x-python",
   "name": "python",
   "nbconvert_exporter": "python",
   "pygments_lexer": "ipython3",
   "version": "3.6.8"
  }
 },
 "nbformat": 4,
 "nbformat_minor": 5
}
