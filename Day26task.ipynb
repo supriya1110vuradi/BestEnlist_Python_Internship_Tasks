{
 "cells": [
  {
   "cell_type": "markdown",
   "id": "d3500040",
   "metadata": {},
   "source": [
    "## Enumerate a python list and try to print the counter with the list value"
   ]
  },
  {
   "cell_type": "code",
   "execution_count": 13,
   "id": "e19a6650",
   "metadata": {},
   "outputs": [
    {
     "name": "stdout",
     "output_type": "stream",
     "text": [
      "[(0, 'Eat'), (1, 'Sleep'), (2, 'Repeat'), (3, 'Cricket'), (4, 'Study'), (5, 'Practice'), (6, 'Coding')]\n",
      "Counter({'Eat': 1, 'Sleep': 1, 'Repeat': 1, 'Cricket': 1, 'Study': 1, 'Practice': 1, 'Coding': 1})\n"
     ]
    }
   ],
   "source": [
    "from collections import Counter\n",
    "a=[\"Eat\", \"Sleep\", \"Repeat\", \"Cricket\", \"Study\", \"Practice\", \"Coding\"]\n",
    "obj1=enumerate(a)\n",
    "print(list(obj1))\n",
    "print(Counter(a))"
   ]
  },
  {
   "cell_type": "markdown",
   "id": "dfbe427f",
   "metadata": {},
   "source": [
    "## Enumerate a python tuple and try to print the counter with the tuple value"
   ]
  },
  {
   "cell_type": "code",
   "execution_count": 14,
   "id": "48dfd4fe",
   "metadata": {},
   "outputs": [
    {
     "name": "stdout",
     "output_type": "stream",
     "text": [
      "((0, 'Eat'), (1, 'Sleep'), (2, 'Repeat'), (3, 'Cricket'), (4, 'Study'), (5, 'Practice'), (6, 'Coding'))\n",
      "Counter({'Eat': 1, 'Sleep': 1, 'Repeat': 1, 'Cricket': 1, 'Study': 1, 'Practice': 1, 'Coding': 1})\n"
     ]
    }
   ],
   "source": [
    "from collections import Counter\n",
    "a=(\"Eat\", \"Sleep\", \"Repeat\", \"Cricket\", \"Study\", \"Practice\", \"Coding\")\n",
    "obj1=enumerate(a)\n",
    "print(tuple(obj1))\n",
    "print(Counter(a))"
   ]
  }
 ],
 "metadata": {
  "kernelspec": {
   "display_name": "Python 3 (ipykernel)",
   "language": "python",
   "name": "python3"
  },
  "language_info": {
   "codemirror_mode": {
    "name": "ipython",
    "version": 3
   },
   "file_extension": ".py",
   "mimetype": "text/x-python",
   "name": "python",
   "nbconvert_exporter": "python",
   "pygments_lexer": "ipython3",
   "version": "3.9.5"
  }
 },
 "nbformat": 4,
 "nbformat_minor": 5
}
