{
 "cells": [
  {
   "cell_type": "markdown",
   "id": "4c32db70",
   "metadata": {},
   "source": [
    "### 1.Write a program using zip() function and list() function, create a merged list of tuples from the two lists given."
   ]
  },
  {
   "cell_type": "code",
   "execution_count": 28,
   "id": "faab23a7",
   "metadata": {},
   "outputs": [
    {
     "name": "stdout",
     "output_type": "stream",
     "text": [
      "((1, 'u'), (6, 'z'), (5, 'x'), (4, 'y'))\n"
     ]
    }
   ],
   "source": [
    "lst1 = [1, 6, 5, 4]\n",
    "lst2 = ['u', 'z', 'x', 'y']\n",
    "def merge(lst1, lst2):\n",
    "    merged_list = tuple(zip(lst1, lst2))\n",
    "    return merged_list\n",
    "print(merge(lst1, lst2))"
   ]
  },
  {
   "cell_type": "markdown",
   "id": "14011678",
   "metadata": {},
   "source": [
    "### 2. First create a range from 1 to 8. Then using zip, merge the given list and the range together to create a new list of tuples."
   ]
  },
  {
   "cell_type": "code",
   "execution_count": 17,
   "id": "a905c57e",
   "metadata": {},
   "outputs": [
    {
     "name": "stdout",
     "output_type": "stream",
     "text": [
      "<zip object at 0x000002A703221440>\n"
     ]
    }
   ],
   "source": [
    "lst1=[\"E\", \"A\", \"I\", \"T\", \"F\", \"F\", \"S\"]\n",
    "rng1=list(range(1,8))\n",
    "lst=zip(lst1, rng1)\n",
    "print(lst)"
   ]
  },
  {
   "cell_type": "markdown",
   "id": "6e48e1b7",
   "metadata": {},
   "source": [
    "### 3. Using sorted() function, sort the list in ascending order."
   ]
  },
  {
   "cell_type": "code",
   "execution_count": 26,
   "id": "b21e59e7",
   "metadata": {},
   "outputs": [
    {
     "name": "stdout",
     "output_type": "stream",
     "text": [
      "[1, 4, 5, 7, 8, 9, 10, 30, 50]\n"
     ]
    }
   ],
   "source": [
    "list =[1, 4, 5, 7, 8, 9, 10, 30, 50]\n",
    "a = sorted(list)\n",
    "print(a)"
   ]
  },
  {
   "cell_type": "markdown",
   "id": "02f4b5a7",
   "metadata": {},
   "source": [
    "### 4.Write a program using filter function, filter the even numbers so that only odd numbers are passed to the new list."
   ]
  },
  {
   "cell_type": "code",
   "execution_count": 27,
   "id": "46817196",
   "metadata": {},
   "outputs": [
    {
     "name": "stdout",
     "output_type": "stream",
     "text": [
      "Even Numbers are:\n",
      "2\n",
      "4\n",
      "6\n",
      "8\n",
      "10\n"
     ]
    }
   ],
   "source": [
    "list=[1,2,3,4,5,6,7,8,9,10]\n",
    "def even_numbers(num):\n",
    "    if(num%2 == 0):\n",
    "        return True\n",
    "    else:\n",
    "        return False\n",
    "\n",
    "evenNums = filter(even_numbers, list)\n",
    "print('Even Numbers are:')\n",
    "for num in evenNums:\n",
    "    print(num)"
   ]
  }
 ],
 "metadata": {
  "kernelspec": {
   "display_name": "Python 3 (ipykernel)",
   "language": "python",
   "name": "python3"
  },
  "language_info": {
   "codemirror_mode": {
    "name": "ipython",
    "version": 3
   },
   "file_extension": ".py",
   "mimetype": "text/x-python",
   "name": "python",
   "nbconvert_exporter": "python",
   "pygments_lexer": "ipython3",
   "version": "3.9.5"
  }
 },
 "nbformat": 4,
 "nbformat_minor": 5
}
