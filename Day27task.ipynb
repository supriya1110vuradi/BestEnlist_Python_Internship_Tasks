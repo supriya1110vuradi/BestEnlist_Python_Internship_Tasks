{
 "cells": [
  {
   "cell_type": "markdown",
   "id": "377012a5",
   "metadata": {},
   "source": [
    "# 1.Take any webpage, Scrape the data and try to insert only the class data and save it in excel"
   ]
  },
  {
   "cell_type": "code",
   "execution_count": 15,
   "id": "96035bcf",
   "metadata": {},
   "outputs": [
    {
     "name": "stdout",
     "output_type": "stream",
     "text": [
      "['30,981,339 ', '411,928', '30,129,597']\n"
     ]
    }
   ],
   "source": [
    "# Import required module\n",
    "import requests\n",
    "\n",
    "# Make requests from webpage\n",
    "result = requests.get('https://www.worldometers.info/coronavirus/country/india/')\n",
    "# Import required modules\n",
    "import bs4\n",
    "\n",
    "# Creating soap object\n",
    "soup = bs4.BeautifulSoup(result.text,'html.parser')\n",
    "# Searching div tags having maincounter-number class\n",
    "cases = soup.find_all('div' ,class_= 'maincounter-number')\n",
    "# List to store number of cases\n",
    "data = []\n",
    "\n",
    "# Find the span and get data from it\n",
    "for i in cases:\n",
    "\tspan = i.find('span')\n",
    "\tdata.append(span.string)\n",
    "\n",
    "# Display number of cases\n",
    "print(data)\n"
   ]
  },
  {
   "cell_type": "code",
   "execution_count": 20,
   "id": "072454bd",
   "metadata": {},
   "outputs": [],
   "source": [
    "import pandas as pd\n",
    " \n",
    "# Creating dataframe\n",
    "df = pd.DataFrame({\"CoronaData\": data})\n",
    " \n",
    "# Naming the coloumns\n",
    "df.index = ['TotalCases', ' Deaths', 'Recovered']"
   ]
  },
  {
   "cell_type": "code",
   "execution_count": 21,
   "id": "d3f72d3f",
   "metadata": {},
   "outputs": [],
   "source": [
    "# Exporing data into Excel\n",
    "df.to_csv('Corona_Data.csv')"
   ]
  }
 ],
 "metadata": {
  "kernelspec": {
   "display_name": "Python 3 (ipykernel)",
   "language": "python",
   "name": "python3"
  },
  "language_info": {
   "codemirror_mode": {
    "name": "ipython",
    "version": 3
   },
   "file_extension": ".py",
   "mimetype": "text/x-python",
   "name": "python",
   "nbconvert_exporter": "python",
   "pygments_lexer": "ipython3",
   "version": "3.9.5"
  }
 },
 "nbformat": 4,
 "nbformat_minor": 5
}
