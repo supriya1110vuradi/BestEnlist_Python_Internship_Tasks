{
 "cells": [
  {
   "cell_type": "markdown",
   "id": "7040e1ee",
   "metadata": {},
   "source": [
    "#1] Create an Employee Table with employee name,employee ID & Salary"
   ]
  },
  {
   "cell_type": "code",
   "execution_count": 4,
   "id": "24ad028c",
   "metadata": {},
   "outputs": [
    {
     "name": "stdout",
     "output_type": "stream",
     "text": [
      "('doctor',)\n",
      "('employee',)\n",
      "('information_schema',)\n",
      "('my_first_db',)\n",
      "('mydatabase',)\n",
      "('mysql',)\n",
      "('performance_schema',)\n",
      "('records',)\n",
      "('student',)\n",
      "('sys',)\n",
      "('usersdb',)\n"
     ]
    }
   ],
   "source": [
    "import mysql.connector\n",
    "db_connection = mysql.connector.connect(\n",
    "  host= \"localhost\",\n",
    "  user= \"root\",\n",
    "  passwd= \"Sqlpython123#\"\n",
    "  )\n",
    "# creating database_cursor to perform SQL operation\n",
    "db_cursor = db_connection.cursor()\n",
    "# executing cursor with execute method and pass SQL query\n",
    "db_cursor.execute(\"CREATE DATABASE employee\")\n",
    "# get list of all databases\n",
    "db_cursor.execute(\"SHOW DATABASES\")\n",
    "#print all databases\n",
    "for db in db_cursor:\n",
    "\tprint(db)"
   ]
  },
  {
   "cell_type": "code",
   "execution_count": 5,
   "id": "c012af1b",
   "metadata": {},
   "outputs": [
    {
     "name": "stdout",
     "output_type": "stream",
     "text": [
      "('employee',)\n"
     ]
    }
   ],
   "source": [
    "import mysql.connector\n",
    "db_connection = mysql.connector.connect(\n",
    "  host= \"localhost\",\n",
    "  user= \"root\",\n",
    "  passwd= \"Sqlpython123#\",\n",
    "  database=\"employee\"\n",
    "  )\n",
    "\n",
    "#create table\n",
    "db_cursor = db_connection.cursor()\n",
    "\n",
    "db_cursor.execute(\"CREATE TABLE employee (emp_id VARCHAR(255) ,name VARCHAR(255), salary INT(7))\")\n",
    "\n",
    "#Get database table\n",
    "db_cursor.execute(\"SHOW TABLES\")\n",
    "for table in db_cursor:\n",
    "\tprint(table)\t"
   ]
  },
  {
   "cell_type": "code",
   "execution_count": 6,
   "id": "81737e52",
   "metadata": {},
   "outputs": [
    {
     "name": "stdout",
     "output_type": "stream",
     "text": [
      "15 Record Inserted\n",
      "('employee',)\n"
     ]
    }
   ],
   "source": [
    "import mysql.connector\n",
    "db_connection = mysql.connector.connect(\n",
    "  host= \"localhost\",\n",
    "  user= \"root\",\n",
    "  passwd= \"Sqlpython123#\",\n",
    "  database=\"employee\"\n",
    "  )\n",
    "db_cursor = db_connection.cursor()\n",
    "\n",
    "employee_sql_query = \"INSERT INTO employee(emp_id, name,salary) VALUES (%s, %s, %s)\" \n",
    "val = [\n",
    "  ('E123','Mahi Dhoni ', '90000'),\n",
    "  ('E124','Inaya Dhillon ', '60000'),\n",
    "    ('E125','Virat Kholi', '70000'),\n",
    "    ('E121','Shanti Kapoor ', '80000'),\n",
    "    ('E122','Padmini Sharma ', '10000'),\n",
    "    ('E126','Priyanka Chopra ', '20000'),\n",
    "    ('E127','Akshay Kumar ', '30000'),\n",
    "    ('E128','Virat Kapoor ', '40000'),\n",
    "    ('E129','Varsha Gaikwar ', '50000'),\n",
    "    ('E120','Neha Joshi ', '60000'),\n",
    "    ('E130','Alice Merry ', '70000'),\n",
    "    ('E131','Rishita Pandya ', '25000'),\n",
    "    ('E132','Malini Sahu ', '35000'),\n",
    "    ('E134','Archi Yadav ', '45000'),\n",
    "    ('E135','Rajesh Ganguly ', '55000')]\n",
    "\n",
    "db_cursor.executemany(employee_sql_query, val)\n",
    "\n",
    "db_connection.commit()\n",
    "print(db_cursor.rowcount, \"Record Inserted\")\n",
    "#Get database table\n",
    "db_cursor.execute(\"SHOW TABLES\")\n",
    "for table in db_cursor:\n",
    "\tprint(table)"
   ]
  },
  {
   "cell_type": "markdown",
   "id": "5605347f",
   "metadata": {},
   "source": [
    "#a] Write a query to get the maximum and minimum salary from employees table"
   ]
  },
  {
   "cell_type": "code",
   "execution_count": 8,
   "id": "bcf78e6c",
   "metadata": {},
   "outputs": [
    {
     "name": "stdout",
     "output_type": "stream",
     "text": [
      "(90000, 10000)\n"
     ]
    }
   ],
   "source": [
    "import mysql.connector\n",
    "db_connection = mysql.connector.connect(\n",
    "  host= \"localhost\",\n",
    "  user= \"root\",\n",
    "  passwd= \"Sqlpython123#\",\n",
    "  database=\"employee\"\n",
    "  )\n",
    "db_cursor = db_connection.cursor()\n",
    "db_cursor.execute(\"SELECT MAX(salary), MIN(salary) FROM employee \")\n",
    "myresult=db_cursor.fetchall()\n",
    "for x in myresult:\n",
    "    print(x)"
   ]
  },
  {
   "cell_type": "markdown",
   "id": "df391071",
   "metadata": {},
   "source": [
    "#b] Write a query to get the number of employees working with the company"
   ]
  },
  {
   "cell_type": "code",
   "execution_count": 9,
   "id": "3079a78e",
   "metadata": {},
   "outputs": [
    {
     "name": "stdout",
     "output_type": "stream",
     "text": [
      "(15,)\n"
     ]
    }
   ],
   "source": [
    "import mysql.connector\n",
    "db_connection = mysql.connector.connect(\n",
    "  host= \"localhost\",\n",
    "  user= \"root\",\n",
    "  passwd= \"Sqlpython123#\",\n",
    "  database=\"employee\"\n",
    "  )\n",
    "db_cursor = db_connection.cursor()\n",
    "db_cursor.execute(\"SELECT COUNT(*) FROM employee \")\n",
    "myresult=db_cursor.fetchall()\n",
    "for x in myresult:\n",
    "    print(x)"
   ]
  },
  {
   "cell_type": "markdown",
   "id": "5e86828c",
   "metadata": {},
   "source": [
    "#c] Write a query to get the first 3 characters of first name from employees table"
   ]
  },
  {
   "cell_type": "code",
   "execution_count": 10,
   "id": "f96920de",
   "metadata": {},
   "outputs": [
    {
     "name": "stdout",
     "output_type": "stream",
     "text": [
      "('Mah',)\n",
      "('Ina',)\n",
      "('Vir',)\n",
      "('Sha',)\n",
      "('Pad',)\n",
      "('Pri',)\n",
      "('Aks',)\n",
      "('Vir',)\n",
      "('Var',)\n",
      "('Neh',)\n",
      "('Ali',)\n",
      "('Ris',)\n",
      "('Mal',)\n",
      "('Arc',)\n",
      "('Raj',)\n"
     ]
    }
   ],
   "source": [
    "import mysql.connector\n",
    "db_connection = mysql.connector.connect(\n",
    "  host= \"localhost\",\n",
    "  user= \"root\",\n",
    "  passwd= \"Sqlpython123#\",\n",
    "  database=\"employee\"\n",
    "  )\n",
    "db_cursor = db_connection.cursor()\n",
    "db_cursor.execute(\"SELECT SUBSTRING(name,1,3) FROM employee\")\n",
    "myresult=db_cursor.fetchall()\n",
    "for x in myresult:\n",
    "    print(x)"
   ]
  }
 ],
 "metadata": {
  "kernelspec": {
   "display_name": "Python 3 (ipykernel)",
   "language": "python",
   "name": "python3"
  },
  "language_info": {
   "codemirror_mode": {
    "name": "ipython",
    "version": 3
   },
   "file_extension": ".py",
   "mimetype": "text/x-python",
   "name": "python",
   "nbconvert_exporter": "python",
   "pygments_lexer": "ipython3",
   "version": "3.9.5"
  }
 },
 "nbformat": 4,
 "nbformat_minor": 5
}
