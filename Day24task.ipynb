{
 "cells": [
  {
   "cell_type": "markdown",
   "id": "563a2aa2",
   "metadata": {},
   "source": [
    "# "
   ]
  },
  {
   "cell_type": "code",
   "execution_count": 1,
   "id": "3d0eee96",
   "metadata": {},
   "outputs": [],
   "source": [
    "import json\n",
    "json_records=[{'name':\"Shraddha\",'age':35,'Actress':True,'salary':95000.90,'Movie':'ABCD'},\n",
    "     {'name':\"Alia\",'age':30,'Actress':False,'salary':56000,'Movie':\"EFG\"},\n",
    "     {'name':\"Rakul\",'age':24,'Actress':True,'salary':89000.45,'Movie':'HIJK'},\n",
    "     {'name':\"Kiara\",'age':29,'Actress':True,'salary':45000.00,'Movie':'KLMN'},\n",
    "     {'name':\"Ananya\",'age':23,'Actress':False,'salary':23000,'Movie':'QPRS'}]\n",
    "a=json.dumps(json_records)"
   ]
  },
  {
   "cell_type": "code",
   "execution_count": 2,
   "id": "d9e35ec9",
   "metadata": {},
   "outputs": [
    {
     "name": "stdout",
     "output_type": "stream",
     "text": [
      "<mysql.connector.connection.MySQLConnection object at 0x00000115A29C2550>\n",
      "('doctor',)\n",
      "('employee',)\n",
      "('information_schema',)\n",
      "('jsonrecords',)\n",
      "('my_first_db',)\n",
      "('mydatabase',)\n",
      "('mysql',)\n",
      "('new_schema',)\n",
      "('performance_schema',)\n",
      "('records',)\n",
      "('student',)\n",
      "('students',)\n",
      "('sys',)\n",
      "('usersdb',)\n",
      "('webscrapedetails',)\n"
     ]
    }
   ],
   "source": [
    "import mysql.connector\n",
    "mydb = mysql.connector.connect(\n",
    "  host=\"localhost\",\n",
    "  user=\"root\",\n",
    "  password=\"Sqlpython123#\"\n",
    ")\n",
    "print(mydb)\n",
    "\n",
    "\n",
    "dbse = mydb.cursor()\n",
    "\n",
    "dbse.execute(\"CREATE DATABASE jsonrecords\")\n",
    "dbse = mydb.cursor()\n",
    "\n",
    "dbse.execute(\"SHOW DATABASES\")\n",
    "\n",
    "for x in dbse:\n",
    "  print(x)"
   ]
  },
  {
   "cell_type": "code",
   "execution_count": 3,
   "id": "42e04a9b",
   "metadata": {},
   "outputs": [],
   "source": [
    "mydb = mysql.connector.connect(\n",
    "  host=\"localhost\",\n",
    " user=\"root\",\n",
    "  password=\"Sqlpython123#\",\n",
    "  database=\"jsonrecords\"\n",
    ")\n",
    "dbse = mydb.cursor()\n",
    "\n",
    "dbse.execute(\"CREATE TABLE actressess(name VARCHAR(255),age INT, Actress VARCHAR(255), salary DOUBLE, Movie VARCHAR(255))\")\n"
   ]
  },
  {
   "cell_type": "code",
   "execution_count": 4,
   "id": "00e5058c",
   "metadata": {},
   "outputs": [
    {
     "name": "stdout",
     "output_type": "stream",
     "text": [
      "('actressess',)\n"
     ]
    }
   ],
   "source": [
    "dbse = mydb.cursor()\n",
    "\n",
    "dbse.execute(\"SHOW TABLES\")\n",
    "\n",
    "for value in dbse:\n",
    "  print(value)"
   ]
  },
  {
   "cell_type": "code",
   "execution_count": 9,
   "id": "4ebaa771",
   "metadata": {},
   "outputs": [
    {
     "name": "stdout",
     "output_type": "stream",
     "text": [
      "('name', b'varchar(255)', 'YES', '', None, '')\n",
      "('age', b'int', 'YES', '', None, '')\n",
      "('Actress', b'varchar(255)', 'YES', '', None, '')\n",
      "('salary', b'double', 'YES', '', None, '')\n",
      "('Movie', b'varchar(255)', 'YES', '', None, '')\n"
     ]
    }
   ],
   "source": [
    "dbse = mydb.cursor()\n",
    "\n",
    "dbse.execute(\"SHOW COLUMNS FROM actressess\")\n",
    "\n",
    "for value in dbse:\n",
    "  print(value)"
   ]
  },
  {
   "cell_type": "code",
   "execution_count": null,
   "id": "10302b29",
   "metadata": {},
   "outputs": [],
   "source": []
  }
 ],
 "metadata": {
  "kernelspec": {
   "display_name": "Python 3 (ipykernel)",
   "language": "python",
   "name": "python3"
  },
  "language_info": {
   "codemirror_mode": {
    "name": "ipython",
    "version": 3
   },
   "file_extension": ".py",
   "mimetype": "text/x-python",
   "name": "python",
   "nbconvert_exporter": "python",
   "pygments_lexer": "ipython3",
   "version": "3.9.5"
  }
 },
 "nbformat": 4,
 "nbformat_minor": 5
}
