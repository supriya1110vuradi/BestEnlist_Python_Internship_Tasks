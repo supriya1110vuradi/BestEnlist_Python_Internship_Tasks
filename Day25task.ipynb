{
 "cells": [
  {
   "cell_type": "markdown",
   "id": "e5bab39e",
   "metadata": {},
   "source": [
    "## 1.Write a Python program to convert a string to datetime "
   ]
  },
  {
   "cell_type": "code",
   "execution_count": 6,
   "id": "795d7937",
   "metadata": {},
   "outputs": [
    {
     "name": "stdout",
     "output_type": "stream",
     "text": [
      "1998-10-11 16:00:00\n"
     ]
    }
   ],
   "source": [
    "from datetime import datetime\n",
    "date_object = datetime.strptime('Oct 11 1998 4:00PM', '%b %d %Y %I:%M%p')\n",
    "print(date_object)"
   ]
  },
  {
   "cell_type": "markdown",
   "id": "02aada0a",
   "metadata": {},
   "source": [
    "## 2.Write a Python program to subtract five days (last working day) from current date"
   ]
  },
  {
   "cell_type": "code",
   "execution_count": 8,
   "id": "0b9fcb71",
   "metadata": {},
   "outputs": [
    {
     "name": "stdout",
     "output_type": "stream",
     "text": [
      "Current Date : 2021-07-10\n",
      "5 days before Current Date : 2021-07-05\n"
     ]
    }
   ],
   "source": [
    "from datetime import date, timedelta\n",
    "dt = date.today() - timedelta(5)\n",
    "print('Current Date :',date.today())\n",
    "print('5 days before Current Date :',dt)"
   ]
  },
  {
   "cell_type": "markdown",
   "id": "e095bcbd",
   "metadata": {},
   "source": [
    "## 3.Write a Python program to convert the date to datetime using a function "
   ]
  },
  {
   "cell_type": "code",
   "execution_count": 9,
   "id": "dca13553",
   "metadata": {},
   "outputs": [
    {
     "name": "stdout",
     "output_type": "stream",
     "text": [
      "2021-07-10 00:00:00\n"
     ]
    }
   ],
   "source": [
    "from datetime import date\n",
    "from datetime import datetime\n",
    "dt = date.today()\n",
    "print(datetime.combine(dt, datetime.min.time()))"
   ]
  },
  {
   "cell_type": "markdown",
   "id": "6e9cc796",
   "metadata": {},
   "source": [
    "## 4.Write a Python program to print next 7 days (week) starting from today"
   ]
  },
  {
   "cell_type": "code",
   "execution_count": 10,
   "id": "6c85e991",
   "metadata": {},
   "outputs": [
    {
     "name": "stdout",
     "output_type": "stream",
     "text": [
      "2021-07-10 09:15:08.072043\n",
      "2021-07-11 09:15:08.072043\n",
      "2021-07-12 09:15:08.072043\n",
      "2021-07-13 09:15:08.072043\n",
      "2021-07-14 09:15:08.072043\n",
      "2021-07-15 09:15:08.072043\n",
      "2021-07-16 09:15:08.072043\n"
     ]
    }
   ],
   "source": [
    "import datetime\n",
    "base = datetime.datetime.today()\n",
    "for x in range(0, 7):\n",
    "      print(base + datetime.timedelta(days=x))"
   ]
  }
 ],
 "metadata": {
  "kernelspec": {
   "display_name": "Python 3 (ipykernel)",
   "language": "python",
   "name": "python3"
  },
  "language_info": {
   "codemirror_mode": {
    "name": "ipython",
    "version": 3
   },
   "file_extension": ".py",
   "mimetype": "text/x-python",
   "name": "python",
   "nbconvert_exporter": "python",
   "pygments_lexer": "ipython3",
   "version": "3.9.5"
  }
 },
 "nbformat": 4,
 "nbformat_minor": 5
}
